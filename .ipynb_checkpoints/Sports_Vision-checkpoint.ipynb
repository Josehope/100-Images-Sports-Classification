{
 "cells": [
  {
   "cell_type": "code",
   "execution_count": 2,
   "metadata": {
    "executionInfo": {
     "elapsed": 6228,
     "status": "ok",
     "timestamp": 1651883225046,
     "user": {
      "displayName": "Hitan",
      "userId": "12808186037540262885"
     },
     "user_tz": -60
    },
    "id": "UTjChXvrX2IP"
   },
   "outputs": [],
   "source": [
    "# Import Relevant libraries\n",
    "import os\n",
    "import tensorflow as tf\n",
    "from tensorflow.keras.applications.mobilenet_v2 import MobileNetV2, preprocess_input\n",
    "from tensorflow.keras.layers import Dense, Conv2D, GlobalAvgPool2D, Input\n",
    "from tensorflow.keras.preprocessing.image import load_img, ImageDataGenerator\n",
    "from tensorflow.keras import callbacks, optimizers\n",
    "import numpy as np"
   ]
  },
  {
   "cell_type": "code",
   "execution_count": 3,
   "metadata": {
    "executionInfo": {
     "elapsed": 13,
     "status": "ok",
     "timestamp": 1651883226877,
     "user": {
      "displayName": "Hitan",
      "userId": "12808186037540262885"
     },
     "user_tz": -60
    },
    "id": "sB67pVZ_X9aZ"
   },
   "outputs": [],
   "source": [
    "def img_data(dir_path, target_size, batch, class_list, preprocessing):\n",
    "    if preprocessing:\n",
    "        gen_object = ImageDataGenerator(preprocessing_function=preprocessing)\n",
    "    else:\n",
    "        gen_object = ImageDataGenerator()\n",
    "        \n",
    "    return(gen_object.flow_from_directory(dir_path,\n",
    "                                          target_size=target_size,\n",
    "                                          batch_size=batch,\n",
    "                                          class_mode=\"sparse\",\n",
    "                                          classes=class_list,\n",
    "                                          shuffle=True))"
   ]
  },
  {
   "cell_type": "code",
   "execution_count": 4,
   "metadata": {
    "colab": {
     "base_uri": "https://localhost:8080/"
    },
    "executionInfo": {
     "elapsed": 52144,
     "status": "ok",
     "timestamp": 1651883279012,
     "user": {
      "displayName": "Hitan",
      "userId": "12808186037540262885"
     },
     "user_tz": -60
    },
    "id": "GChwmqyPX9Pl",
    "outputId": "5bad4197-b433-4be8-d985-420ce77fb624"
   },
   "outputs": [
    {
     "name": "stdout",
     "output_type": "stream",
     "text": [
      "Found 13572 images belonging to 100 classes.\n",
      "Found 500 images belonging to 100 classes.\n",
      "Found 500 images belonging to 100 classes.\n"
     ]
    }
   ],
   "source": [
    "train_ds = img_data(\"100_sports/train\",\n",
    "                    (224, 224),\n",
    "                    500,\n",
    "                    os.listdir(\"100_sports/train\"),\n",
    "                    preprocess_input)\n",
    "\n",
    "valid_ds = img_data(\"100_sports/valid\",\n",
    "                    (224, 224),\n",
    "                    500,\n",
    "                    os.listdir(\"100_sports/valid\"),\n",
    "                    preprocess_input)\n",
    "\n",
    "test_ds = img_data(\"100_sports/test\",\n",
    "                    (224, 224),\n",
    "                    500,\n",
    "                    os.listdir(\"100_sports/test\"),\n",
    "                    preprocess_input)"
   ]
  },
  {
   "cell_type": "code",
   "execution_count": null,
   "metadata": {
    "colab": {
     "base_uri": "https://localhost:8080/"
    },
    "executionInfo": {
     "elapsed": 5019,
     "status": "ok",
     "timestamp": 1651870092177,
     "user": {
      "displayName": "Hitan",
      "userId": "12808186037540262885"
     },
     "user_tz": -60
    },
    "id": "2joLxMBwX9Ey",
    "outputId": "d285385b-647c-4472-8669-56a97467839d"
   },
   "outputs": [
    {
     "name": "stdout",
     "output_type": "stream",
     "text": [
      "Downloading data from https://storage.googleapis.com/tensorflow/keras-applications/mobilenet_v2/mobilenet_v2_weights_tf_dim_ordering_tf_kernels_1.0_224_no_top.h5\n",
      "9412608/9406464 [==============================] - 0s 0us/step\n",
      "9420800/9406464 [==============================] - 0s 0us/step\n"
     ]
    }
   ],
   "source": [
    "base_model = tf.keras.applications.mobilenet_v2.MobileNetV2(\n",
    "                input_shape=(224,224,3),\n",
    "                alpha=1.0,\n",
    "                include_top=False,\n",
    "                weights='imagenet',\n",
    "                input_tensor=None,\n",
    "                pooling=None,\n",
    "                classes=1000,\n",
    "                classifier_activation='softmax'\n",
    "            )"
   ]
  },
  {
   "cell_type": "code",
   "execution_count": null,
   "metadata": {
    "id": "ZItmpLvsX9AU"
   },
   "outputs": [],
   "source": [
    "base_model.trainable = False"
   ]
  },
  {
   "cell_type": "code",
   "execution_count": null,
   "metadata": {
    "colab": {
     "base_uri": "https://localhost:8080/"
    },
    "executionInfo": {
     "elapsed": 645,
     "status": "ok",
     "timestamp": 1651870092793,
     "user": {
      "displayName": "Hitan",
      "userId": "12808186037540262885"
     },
     "user_tz": -60
    },
    "id": "t34swsK9X86-",
    "outputId": "260265be-cd1c-4064-cfb7-9dc580002c85"
   },
   "outputs": [
    {
     "name": "stdout",
     "output_type": "stream",
     "text": [
      "Model: \"sequential\"\n",
      "_________________________________________________________________\n",
      " Layer (type)                Output Shape              Param #   \n",
      "=================================================================\n",
      " mobilenetv2_1.00_224 (Funct  (None, 7, 7, 1280)       2257984   \n",
      " ional)                                                          \n",
      "                                                                 \n",
      " global_average_pooling2d (G  (None, 1280)             0         \n",
      " lobalAveragePooling2D)                                          \n",
      "                                                                 \n",
      " dense (Dense)               (None, 1024)              1311744   \n",
      "                                                                 \n",
      " dense_1 (Dense)             (None, 100)               102500    \n",
      "                                                                 \n",
      "=================================================================\n",
      "Total params: 3,672,228\n",
      "Trainable params: 1,414,244\n",
      "Non-trainable params: 2,257,984\n",
      "_________________________________________________________________\n"
     ]
    }
   ],
   "source": [
    "model = tf.keras.models.Sequential()\n",
    "model.add(base_model)\n",
    "model.add(GlobalAvgPool2D())\n",
    "model.add(Dense(1024, activation=\"relu\"))\n",
    "model.add(Dense(100, activation=\"softmax\"))\n",
    "\n",
    "model.summary()"
   ]
  },
  {
   "cell_type": "code",
   "execution_count": null,
   "metadata": {
    "id": "4U6Npn3UX80c"
   },
   "outputs": [],
   "source": [
    "# Compile the model\n",
    "model.compile(loss=tf.keras.losses.sparse_categorical_crossentropy,\n",
    "              optimizer=tf.keras.optimizers.Adam(),\n",
    "              metrics=[\"accuracy\"])"
   ]
  },
  {
   "cell_type": "code",
   "execution_count": null,
   "metadata": {
    "id": "NDpoQW-JbG2S"
   },
   "outputs": [],
   "source": [
    "es = callbacks.EarlyStopping(monitor=\"val_loss\", patience=5, mode=\"min\")\n",
    "save_ck = callbacks.ModelCheckpoint(\"Saved Models/Sports_Vision.h5\",\n",
    "                                    save_best_only=True, monitor=\"val_loss\", mode=\"min\")"
   ]
  },
  {
   "cell_type": "code",
   "execution_count": null,
   "metadata": {
    "colab": {
     "base_uri": "https://localhost:8080/"
    },
    "executionInfo": {
     "elapsed": 630919,
     "status": "ok",
     "timestamp": 1651874139542,
     "user": {
      "displayName": "Hitan",
      "userId": "12808186037540262885"
     },
     "user_tz": -60
    },
    "id": "ggsT52I_dAzO",
    "outputId": "286a0065-80d0-4ae0-a319-27bfe5c05e50"
   },
   "outputs": [
    {
     "name": "stdout",
     "output_type": "stream",
     "text": [
      "Epoch 1/10\n",
      "28/28 [==============================] - 2859s 101s/step - loss: 1.7631 - accuracy: 0.6057 - val_loss: 0.5356 - val_accuracy: 0.8440\n",
      "Epoch 2/10\n",
      "28/28 [==============================] - 66s 2s/step - loss: 0.4407 - accuracy: 0.8712 - val_loss: 0.3075 - val_accuracy: 0.9140\n",
      "Epoch 3/10\n",
      "28/28 [==============================] - 66s 2s/step - loss: 0.2279 - accuracy: 0.9416 - val_loss: 0.2590 - val_accuracy: 0.9220\n",
      "Epoch 4/10\n",
      "28/28 [==============================] - 64s 2s/step - loss: 0.1409 - accuracy: 0.9709 - val_loss: 0.2616 - val_accuracy: 0.9300\n",
      "Epoch 5/10\n",
      "28/28 [==============================] - 64s 2s/step - loss: 0.1017 - accuracy: 0.9817 - val_loss: 0.2138 - val_accuracy: 0.9320\n",
      "Epoch 6/10\n",
      "28/28 [==============================] - 63s 2s/step - loss: 0.0684 - accuracy: 0.9903 - val_loss: 0.2163 - val_accuracy: 0.9320\n",
      "Epoch 7/10\n",
      "28/28 [==============================] - 64s 2s/step - loss: 0.0460 - accuracy: 0.9965 - val_loss: 0.2062 - val_accuracy: 0.9360\n",
      "Epoch 8/10\n",
      "28/28 [==============================] - 64s 2s/step - loss: 0.0342 - accuracy: 0.9979 - val_loss: 0.1968 - val_accuracy: 0.9340\n",
      "Epoch 9/10\n",
      "28/28 [==============================] - 64s 2s/step - loss: 0.0300 - accuracy: 0.9982 - val_loss: 0.1921 - val_accuracy: 0.9340\n",
      "Epoch 10/10\n",
      "28/28 [==============================] - 63s 2s/step - loss: 0.0242 - accuracy: 0.9986 - val_loss: 0.1992 - val_accuracy: 0.9400\n"
     ]
    }
   ],
   "source": [
    "history = model.fit(train_ds,\n",
    "                    batch_size=500,\n",
    "                    validation_data=valid_ds,\n",
    "                    callbacks=[es, save_ck],\n",
    "                    epochs=10,\n",
    "                    verbose=1)"
   ]
  },
  {
   "cell_type": "code",
   "execution_count": null,
   "metadata": {
    "colab": {
     "base_uri": "https://localhost:8080/"
    },
    "executionInfo": {
     "elapsed": 127292,
     "status": "ok",
     "timestamp": 1651874317818,
     "user": {
      "displayName": "Hitan",
      "userId": "12808186037540262885"
     },
     "user_tz": -60
    },
    "id": "2kn-mEbpdAuK",
    "outputId": "6f46cb30-c8ad-4051-e3e1-ec42a6d30d49"
   },
   "outputs": [
    {
     "name": "stdout",
     "output_type": "stream",
     "text": [
      "1/1 [==============================] - 3s 3s/step - loss: 0.1334 - accuracy: 0.9560\n"
     ]
    }
   ],
   "source": [
    "score = model.evaluate(test_ds)"
   ]
  },
  {
   "cell_type": "code",
   "execution_count": 5,
   "metadata": {
    "executionInfo": {
     "elapsed": 8366,
     "status": "ok",
     "timestamp": 1651883606834,
     "user": {
      "displayName": "Hitan",
      "userId": "12808186037540262885"
     },
     "user_tz": -60
    },
    "id": "bM89bnxYYiqd"
   },
   "outputs": [],
   "source": [
    "# Load model\n",
    "model = tf.keras.models.load_model(\"Saved Models/Sports_Vision.h5\")"
   ]
  },
  {
   "cell_type": "code",
   "execution_count": 6,
   "metadata": {
    "colab": {
     "base_uri": "https://localhost:8080/"
    },
    "executionInfo": {
     "elapsed": 35727,
     "status": "ok",
     "timestamp": 1651883912343,
     "user": {
      "displayName": "Hitan",
      "userId": "12808186037540262885"
     },
     "user_tz": -60
    },
    "id": "Ax25OYVjdAlW",
    "outputId": "67e1b694-7c63-44c5-ffc2-30c51a724f88"
   },
   "outputs": [
    {
     "name": "stdout",
     "output_type": "stream",
     "text": [
      "1/1 [==============================] - 16s 16s/step - loss: 0.1468 - accuracy: 0.9500\n"
     ]
    },
    {
     "data": {
      "text/plain": [
       "[0.14677566289901733, 0.949999988079071]"
      ]
     },
     "execution_count": 6,
     "metadata": {},
     "output_type": "execute_result"
    }
   ],
   "source": [
    "model.evaluate(test_ds)"
   ]
  },
  {
   "cell_type": "code",
   "execution_count": 9,
   "metadata": {
    "colab": {
     "base_uri": "https://localhost:8080/"
    },
    "executionInfo": {
     "elapsed": 1174,
     "status": "ok",
     "timestamp": 1651884120880,
     "user": {
      "displayName": "Hitan",
      "userId": "12808186037540262885"
     },
     "user_tz": -60
    },
    "id": "WgSMV15c9lDZ",
    "outputId": "71b5e812-6843-48a3-e14c-b2beee2b6d90"
   },
   "outputs": [
    {
     "name": "stdout",
     "output_type": "stream",
     "text": [
      "['air hockey' 'ampute football' 'archery' 'arm wrestling' 'axe throwing'\n",
      " 'balance beam' 'barell racing' 'baseball' 'basketball' 'baton twirling'\n",
      " 'bike polo' 'billiards' 'bmx' 'bobsled' 'bowling' 'boxing' 'bull riding'\n",
      " 'bungee jumping' 'canoe slamon' 'cheerleading' 'chuckwagon racing'\n",
      " 'cricket' 'croquet' 'curling' 'disc golf' 'fencing' 'field hockey'\n",
      " 'figure skating men' 'figure skating pairs' 'figure skating women'\n",
      " 'fly fishing' 'football' 'formula 1 racing' 'frisbee' 'gaga'\n",
      " 'giant slalom' 'golf' 'hammer throw' 'hang gliding' 'harness racing'\n",
      " 'high jump' 'hockey' 'horse jumping' 'horse racing' 'horseshoe pitching'\n",
      " 'hurdles' 'hydroplane racing' 'ice climbing' 'ice yachting' 'jai alai'\n",
      " 'javelin' 'jousting' 'judo' 'lacrosse' 'log rolling' 'luge'\n",
      " 'motorcycle racing' 'mushing' 'nascar racing' 'olympic wrestling'\n",
      " 'parallel bar' 'pole climbing' 'pole dancing' 'pole vault' 'polo'\n",
      " 'pommel horse' 'rings' 'rock climbing' 'roller derby'\n",
      " 'rollerblade racing' 'rowing' 'rugby' 'sailboat racing' 'shot put'\n",
      " 'shuffleboard' 'sidecar racing' 'ski jumping' 'sky surfing' 'skydiving'\n",
      " 'snow boarding' 'snowmobile racing' 'speed skating' 'steer wrestling'\n",
      " 'sumo wrestling' 'surfing' 'swimming' 'table tennis' 'tennis'\n",
      " 'track bicycle' 'trapeze' 'tug of war' 'ultimate' 'uneven bars'\n",
      " 'volleyball' 'water cycling' 'water polo' 'weightlifting'\n",
      " 'wheelchair basketball' 'wheelchair racing' 'wingsuit flying']\n"
     ]
    }
   ],
   "source": [
    "# Get the class names programmaticallly\n",
    "import pathlib\n",
    "import numpy as np\n",
    "data_dir = pathlib.Path(\"100_sports/train\")\n",
    "class_names = np.array(sorted([item.name for item in data_dir.glob(\"*\")])) # Create a list of class names from the sub directories\n",
    "print(class_names)"
   ]
  },
  {
   "cell_type": "code",
   "execution_count": 11,
   "metadata": {
    "colab": {
     "base_uri": "https://localhost:8080/",
     "height": 338
    },
    "executionInfo": {
     "elapsed": 6814,
     "status": "ok",
     "timestamp": 1651884153425,
     "user": {
      "displayName": "Hitan",
      "userId": "12808186037540262885"
     },
     "user_tz": -60
    },
    "id": "W0S_3MZ77_0Y",
    "outputId": "52a31d42-411b-465c-f384-3b843bf236a9"
   },
   "outputs": [
    {
     "name": "stderr",
     "output_type": "stream",
     "text": [
      "Clipping input data to the valid range for imshow with RGB data ([0..1] for floats or [0..255] for integers).\n"
     ]
    },
    {
     "name": "stdout",
     "output_type": "stream",
     "text": [
      "first image to predict\n",
      "actual label: disc golf\n",
      "predicted label: disc golf\n"
     ]
    },
    {
     "data": {
      "image/png": "[encoded data removed]",
      "text/plain": [
       "<Figure size 432x288 with 1 Axes>"
      ]
     },
     "metadata": {
      "needs_background": "light"
     },
     "output_type": "display_data"
    }
   ],
   "source": [
    "import numpy as np\n",
    "import matplotlib.pyplot as plt\n",
    "\n",
    "\n",
    "for image_batch, label_batch in test_ds:\n",
    "    \n",
    "    first_image = image_batch[0]\n",
    "    first_label = int(label_batch[0])\n",
    "    \n",
    "    print(\"first image to predict\")\n",
    "    plt.imshow(first_image)\n",
    "    print(\"actual label:\",class_names[first_label])\n",
    "    \n",
    "    batch_prediction = model.predict(image_batch)\n",
    "    print(\"predicted label:\",class_names[np.argmax(batch_prediction[0])])\n",
    "    \n",
    "    break"
   ]
  }
 ],
 "metadata": {
  "accelerator": "GPU",
  "colab": {
   "authorship_tag": "ABX9TyOjxWwszIUxaWoxJKgJuh52",
   "collapsed_sections": [],
   "mount_file_id": "1Ng7aVRVS8O6KNfB9pRWqO7mmc1KbnwDm",
   "name": "Sports_Vision_final.ipynb",
   "provenance": []
  },
  "kernelspec": {
   "display_name": "Python 3",
   "language": "python",
   "name": "python3"
  },
  "language_info": {
   "codemirror_mode": {
    "name": "ipython",
    "version": 3
   },
   "file_extension": ".py",
   "mimetype": "text/x-python",
   "name": "python",
   "nbconvert_exporter": "python",
   "pygments_lexer": "ipython3",
   "version": "3.8.5"
  }
 },
 "nbformat": 4,
 "nbformat_minor": 1
}
